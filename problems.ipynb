{
 "cells": [
  {
   "cell_type": "markdown",
   "id": "dfdf528b",
   "metadata": {},
   "source": [
    "# Applied Statistics Assessment"
   ]
  },
  {
   "cell_type": "markdown",
   "id": "4d1c5277",
   "metadata": {},
   "source": [
    "## Problem 1: Extending the Lady Tasting Tea\n",
    "\n",
    "The original *Lady Tasting Tea* experiment was first described by Ronald Fisher in his book *The Design of Experiments* (1935) [Wikipedia](https://en.wikipedia.org/wiki/The_Design_of_Experiments).  \n",
    "The purpose of the experiment was to test a woman’s claim that she could determine whether milk had been poured into a cup before or after the tea, simply by taste.\n",
    "\n",
    "In the original setup, there were eight cups in total, four with milk poured first and four with tea poured first.  \n",
    "The woman was asked to identify which cups were prepared by each method. Fisher calculated that there was roughly a 1 in 70 chance of correctly identifying all four milk-first cups purely by guessing.\n",
    "\n",
    "\n",
    "In this problem, the *Lady tasting tea* experiment will be slightly modified to 12 cups: 8 tea-first and 4 milk-first.\n"
   ]
  }
 ],
 "metadata": {
  "language_info": {
   "name": "python"
  }
 },
 "nbformat": 4,
 "nbformat_minor": 5
}
