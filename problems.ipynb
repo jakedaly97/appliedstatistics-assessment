{
 "cells": [
  {
   "cell_type": "markdown",
   "id": "dfdf528b",
   "metadata": {},
   "source": [
    "# Applied Statistics Assessment"
   ]
  },
  {
   "cell_type": "code",
   "execution_count": 15,
   "id": "b463fe61",
   "metadata": {},
   "outputs": [],
   "source": [
    "# Mathematical functions from the standard library.\n",
    "# https://docs.python.org/3/library/math.html\n",
    "import math as math\n",
    "\n",
    "# Permutations and combinations.\n",
    "# https://docs.python.org/3/library/itertools.html\n",
    "import itertools\n",
    "\n",
    "# Random selections.\n",
    "# https://docs.python.org/3/library/random.html\n",
    "import random\n",
    "\n",
    "# Numerical structures and operations.\n",
    "# https://numpy.org/doc/stable/reference/index.html#reference\n",
    "import numpy as np\n",
    "\n",
    "# Plotting.\n",
    "# https://matplotlib.org/stable/contents.html\n",
    "import matplotlib.pyplot as plt"
   ]
  },
  {
   "cell_type": "markdown",
   "id": "e9658ea0",
   "metadata": {},
   "source": [
    "## Problem 1: Extending the Lady Tasting Tea\n",
    "\n",
    "The original *Lady Tasting Tea* experiment was first described by Ronald Fisher in his book *The Design of Experiments* (1935) [Wikipedia](https://en.wikipedia.org/wiki/The_Design_of_Experiments).  \n",
    "The purpose of the experiment was to test a woman’s claim that she could determine whether milk had been poured into a cup before or after the tea, simply by taste.\n",
    "\n",
    "In the original setup, there were eight cups in total, four with milk poured first and four with tea poured first.  \n",
    "The woman was asked to identify which cups were prepared by each method. Fisher calculated that there was roughly a 1 in 70 chance of correctly identifying all four milk-first cups purely by guessing.\n",
    "\n",
    "\n",
    "In this problem, the *Lady tasting tea* experiment will be slightly modified to 12 cups: 8 tea-first and 4 milk-first. The experiemnt will be simulated using `numpy` by randomly shuffling the cups many times and calculating the probability of the participant correctly identifying all cups by chance. The results will then be compared to the original 8-cup experiment."
   ]
  },
  {
   "cell_type": "markdown",
   "id": "499a225b",
   "metadata": {},
   "source": [
    "### Cups of Tea(12-Cup experiment)\n",
    "\n",
    "The Lady Tasting Tea experiment to 12 cups: 8 tea-first and 4 milk-first.\n",
    "To start, the number of ways to select the 4 milk-first cups from the 12 total cups will be calculated."
   ]
  },
  {
   "cell_type": "code",
   "execution_count": 16,
   "id": "98d8ae2d",
   "metadata": {},
   "outputs": [],
   "source": [
    "# Number of cups in total\n",
    "no_cups = 12\n",
    "\n",
    "# Number of milk-first cups\n",
    "no_cups_milk_first = 4\n",
    "\n",
    "# Number of tea-first cups\n",
    "no_cups_tea_first = 8"
   ]
  },
  {
   "cell_type": "code",
   "execution_count": 17,
   "id": "21a121cf",
   "metadata": {},
   "outputs": [
    {
     "name": "stdout",
     "output_type": "stream",
     "text": [
      "There are 495 ways of selecting 4 milk-first cups from 12.\n"
     ]
    }
   ],
   "source": [
    "# Number of ways of selecting 4 milk-first cups from 12\n",
    "ways = math.comb(no_cups, no_cups_milk_first)\n",
    "print(f\"There are {ways} ways of selecting 4 milk-first cups from 12.\")"
   ]
  },
  {
   "cell_type": "markdown",
   "id": "1b50838d",
   "metadata": {},
   "source": [
    "Label the twelve cups: 1 2 3 4 5 6 7 8 9 10 11 12.  \n",
    "\n",
    "We select four cups to have milk first.  \n",
    "For example, cups 2, 5, 8, and 12 might be chosen.  \n",
    "\n",
    "Visualizing placeholders for the milk-first cups:\n",
    "\n",
    "Cups: 1 2 3 4 5 6 7 8 9 10 11 12  \n",
    "Placeholders: _ _ _ _"
   ]
  },
  {
   "cell_type": "code",
   "execution_count": 18,
   "id": "4dcbe937",
   "metadata": {},
   "outputs": [
    {
     "data": {
      "text/plain": [
       "11880"
      ]
     },
     "execution_count": 18,
     "metadata": {},
     "output_type": "execute_result"
    }
   ],
   "source": [
    "# Total number of ways of selecting four cups in order\n",
    "ways_ordered = 12 * 11 * 10 * 9\n",
    "ways_ordered"
   ]
  },
  {
   "cell_type": "code",
   "execution_count": 19,
   "id": "de986442",
   "metadata": {},
   "outputs": [
    {
     "data": {
      "text/plain": [
       "24"
      ]
     },
     "execution_count": 19,
     "metadata": {},
     "output_type": "execute_result"
    }
   ],
   "source": [
    "# Number of ways of shuffling the 4 selected cups\n",
    "no_shuffles = 4 * 3 * 2 * 1\n",
    "no_shuffles"
   ]
  },
  {
   "cell_type": "code",
   "execution_count": 20,
   "id": "cef0a09f",
   "metadata": {},
   "outputs": [
    {
     "data": {
      "text/plain": [
       "495"
      ]
     },
     "execution_count": 20,
     "metadata": {},
     "output_type": "execute_result"
    }
   ],
   "source": [
    "# Number of combinations ignoring order\n",
    "no_combs = ways_ordered // no_shuffles\n",
    "no_combs"
   ]
  }
 ],
 "metadata": {
  "kernelspec": {
   "display_name": "Python 3",
   "language": "python",
   "name": "python3"
  },
  "language_info": {
   "codemirror_mode": {
    "name": "ipython",
    "version": 3
   },
   "file_extension": ".py",
   "mimetype": "text/x-python",
   "name": "python",
   "nbconvert_exporter": "python",
   "pygments_lexer": "ipython3",
   "version": "3.12.1"
  }
 },
 "nbformat": 4,
 "nbformat_minor": 5
}
