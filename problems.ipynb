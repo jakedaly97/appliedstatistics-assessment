{
 "cells": [
  {
   "cell_type": "markdown",
   "id": "dfdf528b",
   "metadata": {},
   "source": [
    "# Applied Statistics Assessment"
   ]
  },
  {
   "cell_type": "code",
   "execution_count": null,
   "id": "b463fe61",
   "metadata": {
    "vscode": {
     "languageId": "plaintext"
    }
   },
   "outputs": [],
   "source": [
    "# Mathematical functions from the standard library.\n",
    "# https://docs.python.org/3/library/math.html\n",
    "import math\n",
    "\n",
    "# Permutations and combinations.\n",
    "# https://docs.python.org/3/library/itertools.html\n",
    "import itertools\n",
    "\n",
    "# Random selections.\n",
    "# https://docs.python.org/3/library/random.html\n",
    "import random\n",
    "\n",
    "# Numerical structures and operations.\n",
    "# https://numpy.org/doc/stable/reference/index.html#reference\n",
    "import numpy as np\n",
    "\n",
    "# Plotting.\n",
    "# https://matplotlib.org/stable/contents.html\n",
    "import matplotlib.pyplot as plt"
   ]
  },
  {
   "cell_type": "markdown",
   "id": "e9658ea0",
   "metadata": {},
   "source": [
    "## Problem 1: Extending the Lady Tasting Tea\n",
    "\n",
    "The original *Lady Tasting Tea* experiment was first described by Ronald Fisher in his book *The Design of Experiments* (1935) [Wikipedia](https://en.wikipedia.org/wiki/The_Design_of_Experiments).  \n",
    "The purpose of the experiment was to test a woman’s claim that she could determine whether milk had been poured into a cup before or after the tea, simply by taste.\n",
    "\n",
    "In the original setup, there were eight cups in total, four with milk poured first and four with tea poured first.  \n",
    "The woman was asked to identify which cups were prepared by each method. Fisher calculated that there was roughly a 1 in 70 chance of correctly identifying all four milk-first cups purely by guessing.\n",
    "\n",
    "\n",
    "In this problem, the *Lady tasting tea* experiment will be slightly modified to 12 cups: 8 tea-first and 4 milk-first. The experiemnt will be simulated using `numpy` by randomly shuffling the cups many times and calculating the probability of the participant correctly identifying all cups by chance. The results will then be compared to the original 8-cup experiment."
   ]
  },
  {
   "cell_type": "markdown",
   "id": "499a225b",
   "metadata": {},
   "source": []
  }
 ],
 "metadata": {
  "language_info": {
   "name": "python"
  }
 },
 "nbformat": 4,
 "nbformat_minor": 5
}
